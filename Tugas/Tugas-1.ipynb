{
 "cells": [
  {
   "cell_type": "markdown",
   "metadata": {},
   "source": [
    "# Tugas 1\n",
    "\n",
    "bisa di isi terserah\n",
    "\n",
    "## Membuat web statis emenggunakan template dari jupyter book di github\n",
    "\n",
    "1. pertama tama buat akun github lalu buat repository baru\n",
    "    tambahkan readme pada repository\n",
    "2. branch defalut adalah \"main\" pada branch ini masuk ke codespace\n",
    "3. pada terminal ketik \"pip install jupyter-book\"\n",
    "    ini digunakan untuk menginstall jupyter ke codespace\n",
    "4. untuk membuat template nya ketik \"jupyter-book create (nam folder)\"\n",
    "    untuk nama folder bisa diidi terserah \n",
    "    juyter-book dapat di singkat menjadi jb \n",
    "5. lanjut ubah file yang ada ke bentuk html dengan mengetik \"jb build (nam folder)\"\n",
    "    nama folder harus sama seperti saat crate \n",
    "6. setelah itu ke folder _build/html\n",
    "    copy semua isi yang ada di folder html\n",
    "7. pada bagian repo tambahkan file baru dengan nama \".nojekyll\"\n",
    "    file tidak beriai apa apa \n",
    "8. ke bagian comit isi bagian pesan dan klik commit lalu sync\n",
    "    pesan akan ditamplikan pada github\n",
    "9. kembali ke github masuk ke setting lalu pages\n",
    "    pada  bagian branch ubah dari none ke main (nama branch) lalu save\n",
    "    tunggu hingga muncul link pada bagian atas\n",
    "10. jika sudah klik link untuk mengecek apakah terjadi error\n",
    "\n",
    "    \n",
    "sekian terima kasih \n",
    "\n",
    "??? masih bingung ??? cari solusi sendiri bl***ok jangan manja !1!1!1!\n",
    "cari di forum atau dok lah pasti ada"
   ]
  },
  {
   "cell_type": "code",
   "execution_count": 2,
   "metadata": {},
   "outputs": [
    {
     "name": "stdout",
     "output_type": "stream",
     "text": [
      "halah A** A***** K***** **** *******\n"
     ]
    }
   ],
   "source": [
    "html = \"mboh ra roh\"\n",
    "if html == \"berhasil\":\n",
    "    print(\"yeay bisa\")\n",
    "else:\n",
    "    print(\"halah A** A***** K***** **** *******\")"
   ]
  }
 ],
 "metadata": {
  "kernelspec": {
   "display_name": "Python 3 (ipykernel)",
   "language": "python",
   "name": "python3"
  },
  "widgets": {
   "application/vnd.jupyter.widget-state+json": {
    "state": {},
    "version_major": 2,
    "version_minor": 0
   }
  }
 },
 "nbformat": 4,
 "nbformat_minor": 4
}
