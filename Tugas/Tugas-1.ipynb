{
 "cells": [
  {
   "cell_type": "markdown",
   "metadata": {},
   "source": [
    "# Tugas 1\n",
    "\n",
    "bisa di isi terserah\n",
    "\n",
    "## Membuat web statis emenggunakan template dari jupyter book di github\n",
    "\n",
    "1. tambahkan file .nojekyll (kosongan) di repo yang kalian gunakan \n",
    "    kenapa ? karena kalo gak ditambahin nanti bakal error :)\n",
    "2. buka codespace pada github \n",
    "3. pada terminal instal jupyter book\n",
    "    ketik aja \"pip install jupyter-book\"\n",
    "4. lalu buat template dari buku nya\n",
    "    masih diterminal ketik \"jupyer-book create (terserah kasih nama apa)\"\n",
    "5. lanjut build buku nya \n",
    "    ketik \"jupyter-book build (nama yang di masukin tadi)\"\n",
    "6. udah di build ? nah masuk ke file (nama yang tadi) >> _build >> html\n",
    "    copy semua file yang ada di folder html lalu paste di bagian luar\n",
    "7. kasih pesan lalu comit >> sync\n",
    "8. ke github >> setting >> page \n",
    "    ubah branch nya menjadi branch yang digunakan tunggu hingga muncul link website di bagian atas \n",
    "9. jika kalian klik maka akan masuk ke html yang tadi sudah di build \n",
    "\n",
    "sekian terima kasih \n",
    "\n",
    "??? masih bingung ??? cari solusi sendiri bl***ok jangan manja !1!1!1!\n",
    "cari di forum atau dok lah pasti ada"
   ]
  },
  {
   "cell_type": "code",
   "execution_count": null,
   "metadata": {
    "vscode": {
     "languageId": "plaintext"
    }
   },
   "outputs": [],
   "source": [
    "print(\"hello world\")"
   ]
  }
 ],
 "metadata": {
  "kernelspec": {
   "display_name": "Python 3",
   "language": "python",
   "name": "python3"
  },
  "language_info": {
   "codemirror_mode": {
    "name": "ipython",
    "version": 3
   },
   "file_extension": ".py",
   "mimetype": "text/x-python",
   "name": "python",
   "nbconvert_exporter": "python",
   "pygments_lexer": "ipython3",
   "version": "3.8.0"
  },
  "widgets": {
   "application/vnd.jupyter.widget-state+json": {
    "state": {},
    "version_major": 2,
    "version_minor": 0
   }
  }
 },
 "nbformat": 4,
 "nbformat_minor": 4
}
