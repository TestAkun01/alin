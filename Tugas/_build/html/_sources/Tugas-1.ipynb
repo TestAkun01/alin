{
 "cells": [
  {
   "cell_type": "markdown",
   "metadata": {},
   "source": [
    "# Tugas 1\n",
    "\n",
    "## Membuat web statis menggunakan template dari jupyter book di github\n",
    "![Thumbnail](../Tugas/assets/Thumbnail.png)\n",
    "\n",
    "1. pertama tama buat akun github lalu buat repository baru\n",
    "tambahkan readme pada repository\n",
    "2. branch defalut adalah \"main\" pada branch ini masuk ke codespace\n",
    "3. pada terminal ketik \"pip install jupyter-book\"\n",
    "4. untuk membuat template nya ketik \"jupyter-book create (nama folder)\" untuk nama folder bisa diisi terserah (juyter-book dapat di singkat menjadi jb)\n",
    "5. lanjut ubah file yang ada ke bentuk html dengan mengetik \"jb build (nama folder)\" nama folder harus sama seperti saat create\n",
    "6. setelah itu ke folder _build/html dan copy semua isi yang ada di folder html\n",
    "7. pada bagian repo tambahkan file baru dengan nama \".nojekyll\"\n",
    "file tidak beriai apa apa \n",
    "8. ke bagian commit isi bagian pesan dan klik commit lalu sync pesan dapat diisi terserah dan akan ditamplikan pada github\n",
    "9. kembali ke github masuk ke setting lalu pages pada bagian branch ubah dari none ke main (nama branch yang berisi file jupyter book) lalu save\n",
    "tunggu hingga muncul link pada bagian github pages\n",
    "10. jika sudah klik link untuk mengecek tampilan website nya\n",
    "\n",
    "untuk link youtube dapat di akses melalui link berikut: [Link YouTube](https://youtu.be/CQgyV_BIA6k)"
   ]
  }
 ],
 "metadata": {
  "kernelspec": {
   "display_name": "Python 3 (ipykernel)",
   "language": "python",
   "name": "python3"
  },
  "widgets": {
   "application/vnd.jupyter.widget-state+json": {
    "state": {},
    "version_major": 2,
    "version_minor": 0
   }
  }
 },
 "nbformat": 4,
 "nbformat_minor": 4
}
