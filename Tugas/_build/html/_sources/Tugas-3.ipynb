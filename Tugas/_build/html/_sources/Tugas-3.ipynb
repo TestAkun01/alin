{
 "cells": [
  {
   "cell_type": "markdown",
   "metadata": {},
   "source": [
    "# Matrix\n",
    "## operasi matrix menggunakan numpy"
   ]
  },
  {
   "cell_type": "code",
   "execution_count": 3,
   "metadata": {},
   "outputs": [],
   "source": [
    "import numpy as np"
   ]
  },
  {
   "cell_type": "code",
   "execution_count": 2,
   "metadata": {},
   "outputs": [
    {
     "name": "stdout",
     "output_type": "stream",
     "text": [
      "Matrix A\n",
      "[[1 3]\n",
      " [2 1]] \n",
      "\n",
      "Matrix B\n",
      "[[ 3  0  4]\n",
      " [-1 -2 -1]] \n",
      "\n",
      "Matrix C\n",
      "[[-2  1]\n",
      " [ 4  1]] \n",
      "\n",
      "Matrix D\n",
      "[[2]\n",
      " [6]] \n",
      "\n"
     ]
    }
   ],
   "source": [
    "# array ditentukan secara manual\n",
    "\n",
    "A = np.array([[1,3],[2,1]])\n",
    "B = np.array([[3,0,4],[-1,-2,-1]])\n",
    "C = np.array([[-2,1],[4,1]])\n",
    "D = np.array([[2],[6]])\n",
    "\n",
    "print(\"Matrix A\")\n",
    "print(A,\"\\n\")\n",
    "print(\"Matrix B\")\n",
    "print(B,\"\\n\")\n",
    "print(\"Matrix C\")\n",
    "print(C,\"\\n\")\n",
    "print(\"Matrix D\")\n",
    "print(D,\"\\n\")"
   ]
  },
  {
   "cell_type": "code",
   "execution_count": 3,
   "metadata": {},
   "outputs": [
    {
     "name": "stdout",
     "output_type": "stream",
     "text": [
      "[[5 2]\n",
      " [8 4]] \n",
      "\n",
      "[[5 9]\n",
      " [0 9]\n",
      " [6 5]] \n",
      "\n",
      "[[7 7 5]\n",
      " [7 3 6]\n",
      " [5 1 7]] \n",
      "\n"
     ]
    }
   ],
   "source": [
    "# array ditentukan secara random\n",
    "\n",
    "E = np.random.randint(10,size=(2,2))\n",
    "F = np.random.randint(10,size=(3,2))\n",
    "G = np.random.randint(10,size=(3,3))\n",
    "print(E,\"\\n\")\n",
    "print(F,\"\\n\")\n",
    "print(G,\"\\n\")"
   ]
  },
  {
   "cell_type": "markdown",
   "metadata": {},
   "source": [
    "## Operasi matrix"
   ]
  },
  {
   "cell_type": "code",
   "execution_count": 4,
   "metadata": {},
   "outputs": [
    {
     "name": "stdout",
     "output_type": "stream",
     "text": [
      "(2, 2)\n",
      "(2, 2)\n",
      "\n",
      "[[-1  4]\n",
      " [ 6  2]]\n"
     ]
    }
   ],
   "source": [
    "# penjumlahan\n",
    "\n",
    "# cek jumlah baris dan kolom matrix menggunakan shape\n",
    "print(np.shape(A))\n",
    "\n",
    "print(np.shape(C))\n",
    "print()\n",
    "# jika terdapat dua matrix yang memilik jumlah baris dan kolom yang sama maka kedua matrix tersebut dapat di jumlahkan\n",
    "ac = A + C\n",
    "print(ac)\n",
    "# di operasi penjumlahan matrix juga berlaku sifat komunikatif\n",
    "# (A + B) + C = A + (B + C)"
   ]
  },
  {
   "cell_type": "code",
   "execution_count": 5,
   "metadata": {},
   "outputs": [
    {
     "name": "stdout",
     "output_type": "stream",
     "text": [
      "[[ 6 18]\n",
      " [12  6]] \n",
      "\n",
      "Atau\n",
      "\n",
      "[[ 6 18]\n",
      " [12  6]] \n",
      "\n"
     ]
    }
   ],
   "source": [
    "# perkalian matrix dengan skalar\n",
    "\n",
    "# C dan d adalah konnstanta dan A adalh matrix\n",
    "c = 2\n",
    "d = 4\n",
    "A1 = (c + d) * A\n",
    "print(A1, \"\\n\")\n",
    "print(\"Atau\\n\")\n",
    "A2 = (c * A) + (d * A)\n",
    "print(A2, \"\\n\")\n",
    "\n",
    "# berbeda cara tapi memiliki hasil yang sama"
   ]
  },
  {
   "cell_type": "code",
   "execution_count": 6,
   "metadata": {},
   "outputs": [],
   "source": [
    "# Perkalian antar matrix\n",
    "\n",
    "# Untuk mencari hasil kali matriks A dengan matriks B ialah dengan mengalikan elemen pada baris-baris matriks A \n",
    "# dengan elemen pada kolom-kolom matriks B, kemudian jumlahkan hasil perkalian antara baris dan kolom tersebut.\n",
    "\n",
    "\n",
    "\n"
   ]
  },
  {
   "cell_type": "markdown",
   "metadata": {},
   "source": [
    "## perkalian matriks tanpa menggunakan numpy"
   ]
  },
  {
   "cell_type": "code",
   "execution_count": 5,
   "metadata": {},
   "outputs": [
    {
     "name": "stdout",
     "output_type": "stream",
     "text": [
      "Matriks A [[3, 4], [2, 5], [1, 3]] \n",
      "\n",
      "MAtriks B [[2, 3, 1], [1, 4, 3]] \n",
      "\n",
      "panjang baris dan kolom\n",
      "3 2 \n",
      "\n",
      "2 3 \n",
      "\n",
      "hasil dari perkalian matrix\n",
      "[[10, 25, 15], [9, 26, 17], [5, 15, 10]] \n",
      "\n"
     ]
    }
   ],
   "source": [
    "listA = [\n",
    "    [3,4],\n",
    "    [2,5],\n",
    "    [1,3]\n",
    "    ]\n",
    "\n",
    "listB = [\n",
    "    [2,3,1],\n",
    "    [1,4,3],\n",
    "    ]\n",
    "  \n",
    "print(\"Matriks A\",listA,\"\\n\")\n",
    "print(\"MAtriks B\",listB,\"\\n\")\n",
    "print(\"panjang baris dan kolom\")\n",
    "print(len(listA),len(listA[0]),\"\\n\")\n",
    "print(len(listB),len(listB[0]),\"\\n\")\n",
    "n = len(listA)\n",
    "m = len(listA[0])\n",
    "p = len(listB[0])\n",
    "\n",
    "hasil = []\n",
    "for i in range(0,n):\n",
    "  hasil1 = []\n",
    "  for j in range(0,p):\n",
    "    jumlah = 0\n",
    "    for k in range(0,m):\n",
    "      jumlah += listA[i][k] * listB[k][j]\n",
    "    hasil1.append(jumlah)\n",
    "  hasil.append(hasil1)\n",
    "print(\"hasil dari perkalian matrix\")\n",
    "print(hasil,\"\\n\")"
   ]
  },
  {
   "cell_type": "markdown",
   "metadata": {},
   "source": [
    "## perkalian matriks menggunakan numpy"
   ]
  },
  {
   "cell_type": "code",
   "execution_count": 4,
   "metadata": {},
   "outputs": [
    {
     "name": "stdout",
     "output_type": "stream",
     "text": [
      "[[3 4]\n",
      " [2 5]\n",
      " [1 3]] \n",
      "\n",
      "[[2 3 1]\n",
      " [1 4 3]] \n",
      "\n",
      "[[10 25 15]\n",
      " [ 9 26 17]\n",
      " [ 5 15 10]]\n"
     ]
    }
   ],
   "source": [
    "MatriksA = np.array(([3,4],[2,5],[1,3]))\n",
    "MatriksB = np.array(([2,3,1],[1,4,3]))\n",
    "\n",
    "print(MatriksA,\"\\n\")\n",
    "print(MatriksB,\"\\n\")\n",
    "\n",
    "dot1 = np.dot(MatriksA,MatriksB)\n",
    "dot2 = MatriksA.dot(MatriksB)\n",
    "\n",
    "print(dot1)\n",
    "# print(dot2)"
   ]
  }
 ],
 "metadata": {
  "kernelspec": {
   "display_name": "Python 3 (ipykernel)",
   "language": "python",
   "name": "python3"
  }
 },
 "nbformat": 4,
 "nbformat_minor": 2
}
