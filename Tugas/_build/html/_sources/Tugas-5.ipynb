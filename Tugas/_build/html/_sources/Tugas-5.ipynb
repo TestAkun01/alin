{
 "cells": [
  {
   "cell_type": "markdown",
   "metadata": {},
   "source": [
    "# Determinan \n",
    "\n",
    "Determinan matriks adalah nilai skalar yang dapat diperoleh dari suatu matriks persegi. Determinan memberikan informasi penting tentang sifat-sifat matriks tersebut. Untuk matriks persegi ${n × n}$, determinannya dinyatakan sebagai nilai numerik tunggal,"
   ]
  },
  {
   "cell_type": "code",
   "execution_count": 34,
   "metadata": {
    "metadata": {}
   },
   "outputs": [],
   "source": [
    "import numpy as np"
   ]
  },
  {
   "cell_type": "markdown",
   "metadata": {},
   "source": [
    "## sifat sifat matriks\n",
    "\n",
    "### 1.Determinan dari matriks ${I_{nxn}}$ adalah 1"
   ]
  },
  {
   "cell_type": "code",
   "execution_count": 35,
   "metadata": {
    "metadata": {}
   },
   "outputs": [
    {
     "name": "stdout",
     "output_type": "stream",
     "text": [
      "[[1. 0. 0.]\n",
      " [0. 1. 0.]\n",
      " [0. 0. 1.]] \n",
      "\n",
      "1.0 \n",
      "\n"
     ]
    }
   ],
   "source": [
    "I = np.identity(3)\n",
    "\n",
    "print(I,\"\\n\")\n",
    "\n",
    "detI = np.linalg.det(I)\n",
    "\n",
    "print(detI,\"\\n\")"
   ]
  },
  {
   "cell_type": "markdown",
   "metadata": {},
   "source": [
    "### 2. Det(A^-1) adalah 1/det(A)"
   ]
  },
  {
   "cell_type": "markdown",
   "metadata": {},
   "source": [
    "\n",
    "det(I) = det(A) * det(A^(-1))\\\n",
    "\n",
    "1 = det(A) * det(A^(-1))\\\n",
    "\n",
    "det(A^(-1)) = 1/det(A)"
   ]
  },
  {
   "cell_type": "code",
   "execution_count": 36,
   "metadata": {
    "metadata": {}
   },
   "outputs": [
    {
     "name": "stdout",
     "output_type": "stream",
     "text": [
      "8\n",
      "0\n",
      "0\n"
     ]
    }
   ],
   "source": [
    "A = np.array([[1,2,3],[2,1,2],[3,2,1]])\n",
    "\n",
    "invA = np.linalg.inv(A)\n",
    "print(round(np.linalg.det(A)))\n",
    "\n",
    "print(round(np.linalg.det(invA)))\n",
    "\n",
    "print(round(1/np.linalg.det(A)))"
   ]
  },
  {
   "cell_type": "markdown",
   "metadata": {},
   "source": [
    "### 3. Pengaruh Operasi Baris pada Determinan\n",
    "\n",
    "menukar baris atau kolom suatu matriks mempengaruhi nilai determinan matriks tersebut\n"
   ]
  },
  {
   "cell_type": "code",
   "execution_count": 37,
   "metadata": {
    "metadata": {}
   },
   "outputs": [
    {
     "name": "stdout",
     "output_type": "stream",
     "text": [
      "8\n",
      "-8\n",
      "-8\n"
     ]
    }
   ],
   "source": [
    "swapA1 = np.array([[2,1,2],[1,2,3],[3,2,1]])\n",
    "\n",
    "swapA2 = np.array([[1,3,2],[2,2,1],[3,1,2]])\n",
    "\n",
    "print(round(np.linalg.det(A)))\n",
    "print(round(np.linalg.det(swapA1)))\n",
    "print(round(np.linalg.det(swapA2)))"
   ]
  },
  {
   "cell_type": "markdown",
   "metadata": {},
   "source": [
    "### 4. jika terdapat satu baris yang memiliki nilai kelipatan baris lain maka det = 0"
   ]
  },
  {
   "cell_type": "code",
   "execution_count": 38,
   "metadata": {
    "metadata": {}
   },
   "outputs": [
    {
     "name": "stdout",
     "output_type": "stream",
     "text": [
      "0\n"
     ]
    }
   ],
   "source": [
    "B = np.array([[1,2,3],[3,6,9],[2,2,2]])\n",
    "\n",
    "print(round(np.linalg.det(B)))"
   ]
  },
  {
   "cell_type": "markdown",
   "metadata": {},
   "source": [
    "### 5. jika terdapat 2 baris stau colom yang sama maka nilai det =  0"
   ]
  },
  {
   "cell_type": "code",
   "execution_count": 39,
   "metadata": {
    "metadata": {}
   },
   "outputs": [
    {
     "name": "stdout",
     "output_type": "stream",
     "text": [
      "0\n"
     ]
    }
   ],
   "source": [
    "C = np.array([[1,2,3],[2,2,2],[1,2,3]])\n",
    "\n",
    "print(round(np.linalg.det(C)))"
   ]
  },
  {
   "cell_type": "markdown",
   "metadata": {},
   "source": [
    "### 6. det(A^T) = det(A)"
   ]
  },
  {
   "cell_type": "code",
   "execution_count": 40,
   "metadata": {
    "metadata": {}
   },
   "outputs": [
    {
     "name": "stdout",
     "output_type": "stream",
     "text": [
      "8\n",
      "8\n"
     ]
    }
   ],
   "source": [
    "D = np.array([[1,2,3],[2,1,2],[3,2,1]])\n",
    "Dt = np.transpose(D)\n",
    "\n",
    "print(round(np.linalg.det(D)))\n",
    "print(round(np.linalg.det(Dt)))"
   ]
  },
  {
   "cell_type": "markdown",
   "metadata": {},
   "source": [
    "### 7. det(A = [x*a, x*b],  =  x det(A)\n",
    "            [c  , d  ])"
   ]
  },
  {
   "cell_type": "code",
   "execution_count": 41,
   "metadata": {
    "metadata": {}
   },
   "outputs": [
    {
     "name": "stdout",
     "output_type": "stream",
     "text": [
      "-3\n",
      "-6\n",
      "-6\n"
     ]
    }
   ],
   "source": [
    "E = np.array([[1,2],[2,1]])\n",
    "Ex1 = np.array([[2,4],[2,1]])\n",
    "Ex2 = np.array([[1,2],[4,2]])\n",
    "\n",
    "print(round(np.linalg.det(E)))\n",
    "print(round(np.linalg.det(Ex1)))\n",
    "print(round(np.linalg.det(Ex2)))"
   ]
  },
  {
   "cell_type": "markdown",
   "metadata": {},
   "source": [
    "### 8. Apabila ada sebuah skalar misal $K$ dikali dengan matriks A maka det(KA) = K^n det(A) yang mana n adalah ukuran dari matriks"
   ]
  },
  {
   "cell_type": "code",
   "execution_count": 42,
   "metadata": {
    "metadata": {}
   },
   "outputs": [
    {
     "name": "stdout",
     "output_type": "stream",
     "text": [
      "64\n",
      "64\n"
     ]
    }
   ],
   "source": [
    "F = np.array([[1,2,3],[2,1,2],[3,2,1]])\n",
    "k = 2\n",
    "\n",
    "print(round(np.linalg.det(F*k)))\n",
    "print((k**3)*round(np.linalg.det(F)))"
   ]
  },
  {
   "cell_type": "markdown",
   "metadata": {},
   "source": [
    "### 9. det dari matrix segitiga atas atau bawah adalah hasil dari perkalian dari diagonalnya\n",
    "\n",
    "matrix segitiga adalah matrix yang sisi diagonal adalah 0 dan di sisi lain termasuk garis diagonal memiliki nilai >= 0"
   ]
  },
  {
   "cell_type": "code",
   "execution_count": 43,
   "metadata": {
    "metadata": {}
   },
   "outputs": [
    {
     "name": "stdout",
     "output_type": "stream",
     "text": [
      "6\n"
     ]
    }
   ],
   "source": [
    "G = np.array([[1,2,3],[0,2,3],[0,0,3]])\n",
    "\n",
    "print(round(np.linalg.det(G)))"
   ]
  },
  {
   "cell_type": "markdown",
   "metadata": {},
   "source": [
    "## tugas mencari determinan menggunakan cofactor expansion"
   ]
  }
 ],
 "metadata": {
  "kernelspec": {
   "display_name": "Python 3 (ipykernel)",
   "language": "python",
   "name": "python3"
  },
  "language_info": {
   "codemirror_mode": {
    "name": "ipython",
    "version": 3
   },
   "file_extension": ".py",
   "mimetype": "text/x-python",
   "name": "python",
   "nbconvert_exporter": "python",
   "pygments_lexer": "ipython3",
   "version": "3.10.13"
  }
 },
 "nbformat": 4,
 "nbformat_minor": 2
}
