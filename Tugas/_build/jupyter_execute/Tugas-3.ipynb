{
 "cells": [
  {
   "cell_type": "markdown",
   "metadata": {},
   "source": [
    "# Matrix\n",
    "\n",
    "matriks adalah susunan bilangan-bilangan berbentuk persegi panjang yang diatur dalam baris atau kolom dengan dibatasi kurung. Bilangan yang tersusun dalam matriks disebut elemen/unsur matriks. Baris adalah susunan bilangan-bilangan yang mendatar (horizontal), sedangkan kolom adalah susunan bilangan-bilangan yang tegak (vertikal). \n",
    "\n",
    "Ordo matriks adalah banyaknya elemen baris dan banyaknya elemen kolom dari suatu matriks. Jika sebuah matriks memiliki i baris dan j kolom, maka matriks tersebut berordo i x j, dapat dituliskan Ai.j"
   ]
  },
  {
   "cell_type": "markdown",
   "metadata": {},
   "source": [
    "## Penggunaan library numpy pada matrix"
   ]
  },
  {
   "cell_type": "code",
   "execution_count": 1,
   "metadata": {},
   "outputs": [],
   "source": [
    "# import library numpy\n",
    "import numpy as np"
   ]
  },
  {
   "cell_type": "markdown",
   "metadata": {},
   "source": [
    "np.array([matrix]) digunakan  untuk membuat matrix dengan nilai yang dapat diisi sendiri"
   ]
  },
  {
   "cell_type": "code",
   "execution_count": 2,
   "metadata": {},
   "outputs": [
    {
     "name": "stdout",
     "output_type": "stream",
     "text": [
      "Matrix A\n",
      "[[1 3]\n",
      " [2 1]] \n",
      "\n",
      "Matrix B\n",
      "[[ 3  0  4]\n",
      " [-1 -2 -1]] \n",
      "\n",
      "Matrix C\n",
      "[[-2  1]\n",
      " [ 4  1]] \n",
      "\n",
      "Matrix D\n",
      "[[2]\n",
      " [6]] \n",
      "\n"
     ]
    }
   ],
   "source": [
    "A = np.array([[1,3],[2,1]])\n",
    "B = np.array([[3,0,4],[-1,-2,-1]])\n",
    "C = np.array([[-2,1],[4,1]])\n",
    "D = np.array([[2],[6]])\n",
    "\n",
    "print(\"Matrix A\")\n",
    "print(A,\"\\n\")\n",
    "print(\"Matrix B\")\n",
    "print(B,\"\\n\")\n",
    "print(\"Matrix C\")\n",
    "print(C,\"\\n\")\n",
    "print(\"Matrix D\")\n",
    "print(D,\"\\n\")"
   ]
  },
  {
   "cell_type": "markdown",
   "metadata": {},
   "source": [
    "np.random.randint(n, size(=i,j)) digunakan untuk membuat matrix dengan nilai interger acak 0-n yang mempunyai baris i dan kolom j"
   ]
  },
  {
   "cell_type": "code",
   "execution_count": 3,
   "metadata": {},
   "outputs": [
    {
     "name": "stdout",
     "output_type": "stream",
     "text": [
      "Matrix F\n",
      "[[2 5]\n",
      " [9 0]] \n",
      "\n",
      "Matrix E\n",
      "[[9 9]\n",
      " [3 4]\n",
      " [2 8]] \n",
      "\n",
      "Matrix G\n",
      "[[1 2 5]\n",
      " [5 4 7]\n",
      " [2 8 7]] \n",
      "\n"
     ]
    }
   ],
   "source": [
    "E = np.random.randint(10,size=(2,2))\n",
    "F = np.random.randint(10,size=(3,2))\n",
    "G = np.random.randint(10,size=(3,3))\n",
    "print(\"Matrix F\")\n",
    "print(E,\"\\n\")\n",
    "print(\"Matrix E\")\n",
    "print(F,\"\\n\")\n",
    "print(\"Matrix G\")\n",
    "print(G,\"\\n\")"
   ]
  },
  {
   "cell_type": "markdown",
   "metadata": {},
   "source": [
    "untuk mengecek panjang baris dan kolom dapat menggunakan np.shape atau len"
   ]
  },
  {
   "cell_type": "code",
   "execution_count": 4,
   "metadata": {},
   "outputs": [
    {
     "name": "stdout",
     "output_type": "stream",
     "text": [
      "baris dan kolom matriks A\n",
      " (2, 2)\n",
      "baris dan kolom matriks B\n",
      " 2 3\n"
     ]
    }
   ],
   "source": [
    "print(\"baris dan kolom matriks A\\n\",np.shape(A))\n",
    "\n",
    "print(\"baris dan kolom matriks B\\n\", len(B),len(B[0]))\n"
   ]
  },
  {
   "cell_type": "markdown",
   "metadata": {},
   "source": [
    "## Operasi matriks\n",
    "\n",
    "penjumlahan\n",
    "\n",
    "Konsep penjumlahan matriks sama seperti penjumlahan pada bilangan. Salah satu syarat penjumlahan ini adalah matriks yang dijumlahkan memiliki ordo yang sama. Operasi penjumlahan ini juga memenuhi sifat-sifat berikut.\n",
    "1. Sifat komutatif\\\n",
    "Pada sifat ini berlaku A + B = B + A.\n",
    "2. Sifat asosiatif\\\n",
    "Pada sifat ini berlaku (A + B) + C = A +(B + C)\n",
    "3. Matriks nol\\\n",
    "Pada sifat ini berlaku A + 0 = A\n",
    "4. Jika dijumlahkan dengan lawannya akan menghasilkan matriks nol, yaitu A + (-A) = 0. \n",
    "\n",
    "contoh :"
   ]
  },
  {
   "cell_type": "code",
   "execution_count": 5,
   "metadata": {},
   "outputs": [
    {
     "name": "stdout",
     "output_type": "stream",
     "text": [
      "matriks A\n",
      "[[1 3]\n",
      " [2 1]] \n",
      "\n",
      "matriks C\n",
      "[[-2  1]\n",
      " [ 4  1]] \n",
      "\n",
      "hasil matriks A + C\n",
      "[[-1  4]\n",
      " [ 6  2]]\n"
     ]
    }
   ],
   "source": [
    "print(\"matriks A\")\n",
    "print(A,\"\\n\")\n",
    "print(\"matriks C\")\n",
    "print(C,\"\\n\")\n",
    "\n",
    "ac = A + C\n",
    "print(\"hasil matriks A + C\")\n",
    "print(ac)"
   ]
  },
  {
   "cell_type": "markdown",
   "metadata": {},
   "source": [
    "Pengurangan\n",
    "\n",
    "Konsep pengurangan pada matriks sama seperti penjumlahan, yaitu mengurangkan elemen yang letaknya sama atau seletak. Salah satu syarat yang harus dipenuhi juga sama, yaitu memiliki ordo yang sama. Pada pengurangan matriks ini, tidak berlaku sifat-sifat seperti halnya penjumlahan. Adapun contoh soal pengurangan matriks adalah sebagai berikut."
   ]
  },
  {
   "cell_type": "code",
   "execution_count": 6,
   "metadata": {},
   "outputs": [
    {
     "name": "stdout",
     "output_type": "stream",
     "text": [
      "matriks C\n",
      "[[-2  1]\n",
      " [ 4  1]] \n",
      "\n",
      "matriks A\n",
      "[[1 3]\n",
      " [2 1]] \n",
      "\n",
      "hasil matriks C - A\n",
      "[[-3 -2]\n",
      " [ 2  0]]\n"
     ]
    }
   ],
   "source": [
    "print(\"matriks C\")\n",
    "print(C,\"\\n\")\n",
    "print(\"matriks A\")\n",
    "print(A,\"\\n\")\n",
    "\n",
    "ca = C - A\n",
    "print(\"hasil matriks C - A\")\n",
    "print(ca)"
   ]
  },
  {
   "cell_type": "markdown",
   "metadata": {},
   "source": [
    "perkalian\n",
    "\n",
    "1. perkalian matriks dengan skalar\\\n",
    "Pada operasi perkalian skalar, sebuah matriks dikalikan dengan bilangan skalar. Jika diketahui A merupakan suatu matriks dan K merupakan bilangan real, maka hasil perkalian K dengan matriks A adalah matriks yang diperoleh dengan mengalikan setiap elemen A dengan K.\n",
    "\n",
    "    contoh :"
   ]
  },
  {
   "cell_type": "code",
   "execution_count": 7,
   "metadata": {},
   "outputs": [
    {
     "name": "stdout",
     "output_type": "stream",
     "text": [
      "matrix A\n",
      "[[1 3]\n",
      " [2 1]] \n",
      "\n",
      "skalar k\n",
      "2 \n",
      "\n",
      "hasil perkalian matriks A dengan skalar k \n",
      "[[2 6]\n",
      " [4 2]] \n",
      "\n"
     ]
    }
   ],
   "source": [
    "# perkalian matrix dengan skalar\n",
    "\n",
    "# k adalah skalar dan A adalh matrix\n",
    "k = 2\n",
    "Ak = k * A\n",
    "print(\"matrix A\")\n",
    "print(A,\"\\n\")\n",
    "print(\"skalar k\")\n",
    "print(k,\"\\n\")\n",
    "print(\"hasil perkalian matriks A dengan skalar k \")\n",
    "print(Ak, \"\\n\")\n"
   ]
  },
  {
   "cell_type": "markdown",
   "metadata": {},
   "source": [
    "2. Perkalian Dua Matriks\\\n",
    "Berbeda dengan perkalian skalar yang hanya mengalikan setiap elemen matriks dengan bilangan skalar, perkalian dua matriks memiliki aturan tersendiri.  Syarat dua buah matriks, misal matriks A dan matriks B, dapat dikalikan adalah jika banyaknya kolom matriks A sama dengan banyaknya baris matriks B.\n",
    "\n",
    "    Perkalian ini memenuhi sifat-sifat berikut.\n",
    "    1. Sifat asosiatif\\\n",
    "    Pada sifat ini, berlaku (A × B) × C= A × (B × C)\n",
    "    2. Sifat distributif\\\n",
    "    Pada sifat ini, berlaku A × (B + C) = (A × B) + (A × C)\n"
   ]
  },
  {
   "cell_type": "markdown",
   "metadata": {},
   "source": [
    "## Tugas perkalian dua matriks \n",
    "perkalian dua matriks menggunakan perulangan"
   ]
  },
  {
   "cell_type": "code",
   "execution_count": 8,
   "metadata": {},
   "outputs": [
    {
     "name": "stdout",
     "output_type": "stream",
     "text": [
      "Matriks A [[3, 4], [2, 5], [1, 3]] \n",
      "\n",
      "MAtriks B [[2, 3, 1], [1, 4, 3]] \n",
      "\n",
      "panjang baris dan kolom\n",
      "Matriks A\n",
      "3 2 \n",
      "\n",
      "Matriks B\n",
      "2 3 \n",
      "\n",
      "hasil dari perkalian matrix\n",
      "[[10, 25, 15], [9, 26, 17], [5, 15, 10]] \n",
      "\n"
     ]
    }
   ],
   "source": [
    "listA = [\n",
    "    [3,4],\n",
    "    [2,5],\n",
    "    [1,3]\n",
    "    ]\n",
    "\n",
    "listB = [\n",
    "    [2,3,1],\n",
    "    [1,4,3],\n",
    "    ]\n",
    "  \n",
    "print(\"Matriks A\",listA,\"\\n\")\n",
    "print(\"MAtriks B\",listB,\"\\n\")\n",
    "\n",
    "print(\"panjang baris dan kolom\")\n",
    "print(\"Matriks A\")\n",
    "print(len(listA),len(listA[0]),\"\\n\")\n",
    "print(\"Matriks B\")\n",
    "print(len(listB),len(listB[0]),\"\\n\")\n",
    "\n",
    "# n adalah panjang baris matrix listA\n",
    "n = len(listA)\n",
    "\n",
    "# adalah panjang kolom matrix listA dan panjang baris matrix listB\n",
    "m = len(listA[0])\n",
    "\n",
    "# p adalah panjang baris matrix listB\n",
    "p = len(listB[0])\n",
    "\n",
    "hasil = []\n",
    "# perulangan terjadi sebanyak panjang baris listA\n",
    "for i in range(0,n):\n",
    "  hasil1 = []\n",
    "  # perulangan terjadi sebanyak panjang baris listB\n",
    "  for j in range(0,p):\n",
    "    jumlah = 0\n",
    "    for k in range(0,m):\n",
    "      jumlah += listA[i][k] * listB[k][j]\n",
    "    hasil1.append(jumlah)\n",
    "  hasil.append(hasil1)\n",
    "print(\"hasil dari perkalian matrix\")\n",
    "print(hasil,\"\\n\")"
   ]
  },
  {
   "cell_type": "markdown",
   "metadata": {},
   "source": [
    "perkalian dua matriks menggunakan library numpy"
   ]
  },
  {
   "cell_type": "code",
   "execution_count": 9,
   "metadata": {},
   "outputs": [
    {
     "name": "stdout",
     "output_type": "stream",
     "text": [
      "[[3 4]\n",
      " [2 5]\n",
      " [1 3]] \n",
      "\n",
      "[[2 3 1]\n",
      " [1 4 3]] \n",
      "\n",
      "[[10 25 15]\n",
      " [ 9 26 17]\n",
      " [ 5 15 10]] \n",
      "\n",
      "[[10 25 15]\n",
      " [ 9 26 17]\n",
      " [ 5 15 10]] \n",
      "\n"
     ]
    }
   ],
   "source": [
    "MatriksA = np.array(([3,4],[2,5],[1,3]))\n",
    "MatriksB = np.array(([2,3,1],[1,4,3]))\n",
    "\n",
    "print(MatriksA,\"\\n\")\n",
    "print(MatriksB,\"\\n\")\n",
    "\n",
    "dot1 = np.dot(MatriksA,MatriksB)\n",
    "dot2 = MatriksA.dot(MatriksB)\n",
    "\n",
    "print(dot1,\"\\n\")\n",
    "print(dot2,\"\\n\")"
   ]
  }
 ],
 "metadata": {
  "kernelspec": {
   "display_name": "Python 3 (ipykernel)",
   "language": "python",
   "name": "python3"
  },
  "language_info": {
   "codemirror_mode": {
    "name": "ipython",
    "version": 3
   },
   "file_extension": ".py",
   "mimetype": "text/x-python",
   "name": "python",
   "nbconvert_exporter": "python",
   "pygments_lexer": "ipython3",
   "version": "3.10.13"
  }
 },
 "nbformat": 4,
 "nbformat_minor": 2
}