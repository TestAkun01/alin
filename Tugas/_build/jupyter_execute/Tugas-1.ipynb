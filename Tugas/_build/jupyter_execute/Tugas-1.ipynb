{
 "cells": [
  {
   "cell_type": "markdown",
   "metadata": {},
   "source": [
    "# Github\n",
    "\n",
    "## Membuat web statis menggunakan template dari jupyter book di github\n",
    "![Thumbnail](../Tugas/assets/Thumbnail.png)\n",
    "\n",
    "1. pertama tama buat akun github lalu buat repository baru dan tambahkan file readme pada repository\n",
    "2. branch defalut adalah \"main\" pada branch ini masuk ke codespace\n",
    "3. pada terminal ketik \"pip install jupyter-book\"\n",
    "4. untuk membuat template nya ketik \"jupyter-book create (nama folder)\" untuk nama folder bisa diisi terserah (juyter-book dapat di singkat menjadi jb)\n",
    "5. lanjut ubah file yang ada ke bentuk html dengan mengetik \"jb build (nama folder)\" nama folder harus sama seperti saat create\n",
    "6. setelah itu ke folder _build/html dan copy semua isi yang ada di folder html\n",
    "7. pada bagian repo tambahkan file baru dengan nama \".nojekyll\" dan file ini tidak beriai apa apa \n",
    "8. ke bagian commit isi bagian pesan dan klik commit lalu sync pesan dapat diisi terserah dan akan ditamplikan pada github\n",
    "9. kembali ke github masuk ke setting lalu pages pada bagian branch ubah dari none ke main (nama branch yang berisi file jupyter book) lalu save, tunggu hingga muncul link pada bagian github pages\n",
    "10. jika sudah klik link untuk mengecek tampilan website nya\n",
    "\n",
    "untuk link youtube dapat di akses melalui link berikut: [Link YouTube](https://youtu.be/CQgyV_BIA6k)"
   ]
  },
  {
   "cell_type": "markdown",
   "metadata": {},
   "source": [
    "## update jupyter book\n",
    "\n",
    "1. hapus semua file jupyter book yang sudah di build(baik yang ada pada folder _build atau di luar folder jupter book) \n",
    "2. build ulang jupyter book dengan mengetik \"jupyter-book build (nama folder)\"\n",
    "3. setelah di build pindah semua file yang ada pada folder _build/html ke luar folder jupyter book\n",
    "4. lalu commit dan sync ulang\n",
    "5. cek pada github apakah terjadi error"
   ]
  }
 ],
 "metadata": {
  "kernelspec": {
   "display_name": "Python 3 (ipykernel)",
   "language": "python",
   "name": "python3"
  },
  "language_info": {
   "codemirror_mode": {
    "name": "ipython",
    "version": 3
   },
   "file_extension": ".py",
   "mimetype": "text/x-python",
   "name": "python",
   "nbconvert_exporter": "python",
   "pygments_lexer": "ipython3",
   "version": "3.10.13"
  },
  "widgets": {
   "application/vnd.jupyter.widget-state+json": {
    "state": {},
    "version_major": 2,
    "version_minor": 0
   }
  }
 },
 "nbformat": 4,
 "nbformat_minor": 4
}