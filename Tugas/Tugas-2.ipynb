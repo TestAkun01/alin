{
 "cells": [
  {
   "cell_type": "markdown",
   "metadata": {},
   "source": [
    "# Penyelesaian Persamaan Sistem Linier \n",
    "\n",
    "Sistem persamaan linear adalah sekumpulan persamaan linear yang terdiri dari beberapa variabel. Contohnya adalah:\n",
    "\n",
    "$$\\begin{align*} \n",
    "3x + 2y - z &=  1 \\\\ \n",
    "2x + 2y + 4z &=  -2\\\\\n",
    "x + y + z &= 1\n",
    "\\end{align*}$$\n",
    "\n",
    "Sistem ini terdiri dari tiga persamaan dengan tiga variabel x, y, z. Solusi sistem linear ini adalah nilai yang dapat menyelesaikan persamaan ini. Solusinya adalah:\n",
    "\n",
    "\\begin{align*} \n",
    "x &= 1\\\\\n",
    "y &= -2\\\\\n",
    "z &= -2\n",
    "\\end{align*}"
   ]
  },
  {
   "cell_type": "markdown",
   "metadata": {},
   "source": [
    "## Eliminasi Gaussian\n",
    "\n",
    "Eliminasi Gauss adalah algoritma yang digunakan untuk menyelesaikan sistem persamaan linear. Algoritma ini terdiri dari serangkaian operasi yang dilakukan pada matriks koefisien dari sistem persamaan tersebut.\n",
    "\n",
    "Ada tiga jenis operasi baris dasar yang dapat dilakukan pada baris matriks tersebut:\n",
    "\n",
    "1. Menukar posisi dua baris.\n",
    "2. Mengalikan suatu baris dengan skalar bukan nol .\n",
    "3. Menambahkan suatu baris dengan suatu kelipatan dari baris yang lain.\n",
    "\n",
    "Operasi-operasi ini tidak mengubah kumpulan solusi. Oleh karena itu, jika tujuan seseorang adalah untuk menyelesaikan sistem persamaan linear, penggunaan operasi baris ini dapat membuat masalah menjadi lebih mudah"
   ]
  },
  {
   "cell_type": "markdown",
   "metadata": {},
   "source": [
    "## Contoh soal eliminasi gaussian"
   ]
  },
  {
   "cell_type": "markdown",
   "metadata": {},
   "source": [
    "contoh soal :\n",
    "\n",
    "\\begin{align*} \n",
    "    8x_1 + 9x_2 + x_3 &= 19\\\\\n",
    "    x_1  + 2x_2 + 3x_3 &= 9\\\\\n",
    "    2x_1 + x_2  + x_3 &= 5\n",
    "\\end{align*}\n",
    "\n",
    "ubah menjadi bentuk matrix\n",
    "\n",
    "\\begin{bmatrix}\n",
    "8 & 9 & 1 & 19\\\\\n",
    "1 & 2 & 3 & 9\\\\\n",
    "2 & 1 & 1 & 5\n",
    "\\end{bmatrix}"
   ]
  },
  {
   "cell_type": "code",
   "execution_count": 1,
   "metadata": {},
   "outputs": [],
   "source": [
    "# import library numpy\n",
    "import numpy as np\n",
    "\n",
    "# masukkan nilai yang ada pada matrix\n",
    "A=np.array([[8,9,1,19],[1,2,3,9],[2,1,1,5]])"
   ]
  },
  {
   "cell_type": "code",
   "execution_count": 2,
   "metadata": {},
   "outputs": [],
   "source": [
    "def RowSwap(A,k,l):\n",
    "# =============================================================================\n",
    "#     A adalah sebuah NumPy array.  RowSwap akan menghasilkan duplicate dari \n",
    "#     array dengan baris k dan l di tukar\n",
    "# =============================================================================\n",
    "    m = A.shape[0]  # m adalah nomor baris di A\n",
    "    n = A.shape[1]  # n adalah nomor kolom di A\n",
    "\n",
    "    B = np.copy(A).astype('float64')\n",
    "\n",
    "    for j in range(n):\n",
    "        temp = B[k][j]\n",
    "        B[k][j] = B[l][j]\n",
    "        B[l][j] = temp\n",
    "\n",
    "    return B\n",
    "\n",
    "def RowScale(A,k,scale):\n",
    "# =============================================================================\n",
    "#     A adalah sebuah NumPy array.  RowScale akan menghasilkan duplicate dari \n",
    "#     array dengan baris k di kali dengan skalar bukan 0\n",
    "# =============================================================================\n",
    "    m = A.shape[0]  # m adalah nomor baris di A\n",
    "    n = A.shape[1]  # n adalah nomor kolom di A\n",
    "\n",
    "    B = np.copy(A).astype('float64')\n",
    "\n",
    "    for j in range(n):\n",
    "        B[k][j] *= scale\n",
    "\n",
    "    return B\n",
    "\n",
    "def RowAdd(A,k,l,scale):\n",
    "# =============================================================================\n",
    "#     A adalah sebuah NumPy array.  RowAdd akan menghasilkan duplicate dari \n",
    "#     array dengan baris k akan di kali dengan 'scale' bukan 0. lalu nilai\n",
    "#     baris l akan di tambah dengan nilai baris k yang sudah dikalikan  \n",
    "# =============================================================================\n",
    "    m = A.shape[0]  # m adalah nomor baris di A\n",
    "    n = A.shape[1]  # n adalah nomor kolom di A\n",
    "\n",
    "    B = np.copy(A).astype('float64')\n",
    "\n",
    "    for j in range(n):\n",
    "        B[l][j] += B[k][j]*scale\n",
    "\n",
    "    return B"
   ]
  },
  {
   "cell_type": "code",
   "execution_count": 3,
   "metadata": {},
   "outputs": [
    {
     "name": "stdout",
     "output_type": "stream",
     "text": [
      "[[ 8  9  1 19]\n",
      " [ 1  2  3  9]\n",
      " [ 2  1  1  5]] \n",
      "\n",
      "[[ 1.  2.  3.  9.]\n",
      " [ 8.  9.  1. 19.]\n",
      " [ 2.  1.  1.  5.]] \n",
      "\n",
      "[[  1.   2.   3.   9.]\n",
      " [  0.  -7. -23. -53.]\n",
      " [  2.   1.   1.   5.]] \n",
      "\n",
      "[[  1.   2.   3.   9.]\n",
      " [  0.  -7. -23. -53.]\n",
      " [  0.  -3.  -5. -13.]] \n",
      "\n",
      "[[  1.           2.           3.           9.        ]\n",
      " [ -0.           1.           3.28571429   7.57142857]\n",
      " [  0.          -3.          -5.         -13.        ]] \n",
      "\n",
      "[[ 1.          2.          3.          9.        ]\n",
      " [-0.          1.          3.28571429  7.57142857]\n",
      " [ 0.          0.          4.85714286  9.71428571]] \n",
      "\n",
      "[[ 1.          2.          3.          9.        ]\n",
      " [-0.          1.          3.28571429  7.57142857]\n",
      " [ 0.          0.          1.          2.        ]]\n"
     ]
    }
   ],
   "source": [
    "print(A,'\\n')\n",
    "\n",
    "# tukar posisi baris 1 dan baris 2\n",
    "A = RowSwap(A,0,1)\n",
    "print(A,'\\n')\n",
    "\n",
    "# baris 1 di kali -8 lalu ditambahkan ke baris 2\n",
    "A1 = RowAdd(A,0,1,-8)\n",
    "print(A1,'\\n')\n",
    "\n",
    "# baris 1 di kali -2 lalu ditambahkan ke baris 3\n",
    "A2 = RowAdd(A1,0,2,-2)\n",
    "print(A2,'\\n')\n",
    "\n",
    "# baris 2 di kalikan dengan -1/7\n",
    "A3 = RowScale(A2,1,-1/7)\n",
    "print(A3,'\\n')\n",
    "\n",
    "# baris 2 di kalikan 3 lalu ditambahkan ke baris 3\n",
    "A4 = RowAdd(A3,1,2,3)\n",
    "print(A4,'\\n')\n",
    "\n",
    "# baris 3 di  kalikan dengan 1/4.85714286\n",
    "A5 = RowScale(A4,2,1/4.85714286)\n",
    "print(A5)"
   ]
  },
  {
   "cell_type": "markdown",
   "metadata": {},
   "source": [
    "## Subtitusi balik\n",
    "\n",
    "\n",
    "setelah menggunakan eliminasi gaussian dan di bulatkan di peroleh hasil sebagai berikut:\n",
    "\n",
    "\\begin{bmatrix} \n",
    "1 & 2 & 3 & 9\\\\\n",
    "0 & 1 & 3.2 & 7.5\\\\\n",
    "0 & 0 & 1 & 2\n",
    "\\end{bmatrix}\n",
    "\n",
    "ubah menjadi bentuk persamaan \n",
    "\n",
    "\\begin{align*} \n",
    "    x_1 + 2x_2 + 3x_3 &= 9\\\\\n",
    "    x_2 + 3.2x_3 &= 7.5\\\\\n",
    "    x_3 &= 2\n",
    "\\end{align*}\n",
    "\n",
    "untuk mencari nilai x yang lain di gunakan metode substitusi balik"
   ]
  },
  {
   "cell_type": "code",
   "execution_count": 13,
   "metadata": {},
   "outputs": [
    {
     "name": "stdout",
     "output_type": "stream",
     "text": [
      "x3 = 2\n",
      "x2 = 1\n",
      "x1 = 1\n"
     ]
    }
   ],
   "source": [
    "x3 = 2\n",
    "print('x3 =',x3)\n",
    "\n",
    "# di peroleh nilai x3 = 2\n",
    "# nilai x3 akan di masukkan ke persamaan kedua\n",
    "\n",
    "x2 = 7.5 - 3.2 *x3\n",
    "print('x2 =',round(x2))\n",
    "\n",
    "# di peroleh nilai x2 = 1 \n",
    "# nilai x3 dam x2 di masukkan ke persamaan pertama\n",
    "\n",
    "x1 = 9 - 2*x2 - 3*x3\n",
    "print('x1 =', round(x1))\n",
    "\n",
    "# di peroleh nilai x1 = 1"
   ]
  },
  {
   "cell_type": "markdown",
   "metadata": {},
   "source": [
    "hasil dari sistem persamaan berikut:\n",
    "\n",
    "\n",
    "\\begin{align*} \n",
    "    8x_1 + 9x_2 + x_3 &= 19\\\\\n",
    "    x_1  + 2x_2 + 3x_3 &= 9\\\\\n",
    "    2x_1 + x_2  + x_3 &= 5\n",
    "\\end{align*}\n",
    "\n",
    "diperoleh nilai dari x1, x2 dan x3 sebagai berikut:\n",
    "\n",
    "\\begin{align*} \n",
    "    x_1 &= 1\\\\\n",
    "    x_2 &= 1\\\\\n",
    "    x_3 &= 2\n",
    "\\end{align*}"
   ]
  }
 ],
 "metadata": {
  "kernelspec": {
   "display_name": "Python 3 (ipykernel)",
   "language": "python",
   "name": "python3"
  }
 },
 "nbformat": 4,
 "nbformat_minor": 2
}
