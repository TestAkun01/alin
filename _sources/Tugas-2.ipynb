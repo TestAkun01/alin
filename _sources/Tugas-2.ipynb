{
 "cells": [
  {
   "cell_type": "markdown",
   "metadata": {},
   "source": [
    "# Eliminasi Gaussian\n",
    "## Penyelesaian sistem operasi sistem linear menggunakan metode eliminasi gaussian\n",
    "\n",
    "Eliminasi Gauss adalah algoritma yang digunakan untuk menyelesaikan sistem persamaan linear. Algoritma ini terdiri dari serangkaian operasi yang dilakukan pada matriks koefisien dari sistem persamaan tersebut.\n",
    "\n",
    "Ada tiga jenis operasi baris dasar yang dapat dilakukan pada baris matriks tersebut:\n",
    "\n",
    "1. Menukar posisi dua baris.\n",
    "2. Mengalikan suatu baris dengan skalar bukan nol .\n",
    "3. Menambahkan suatu baris dengan suatu kelipatan dari baris yang lain.\n",
    "\n",
    "Operasi-operasi ini tidak mengubah kumpulan solusi. Oleh karena itu, jika tujuan seseorang adalah untuk menyelesaikan sistem persamaan linear, penggunaan operasi baris ini dapat membuat masalah menjadi lebih mudah"
   ]
  },
  {
   "cell_type": "markdown",
   "metadata": {},
   "source": [
    "## Contoh soal eliminasi gaussian"
   ]
  },
  {
   "cell_type": "code",
   "execution_count": 2,
   "metadata": {},
   "outputs": [],
   "source": [
    "# import library numpy\n",
    "import numpy as np\n",
    "A=np.array([[8,9,1,19],[1,2,3,9],[2,1,1,5]])"
   ]
  },
  {
   "cell_type": "code",
   "execution_count": 3,
   "metadata": {},
   "outputs": [],
   "source": [
    "def RowSwap(A,k,l):\n",
    "# =============================================================================\n",
    "#     A adalah sebuah NumPy array.  RowSwap akan menghasilkan duplicate dari \n",
    "#     array dengan baris k dan l di tukar\n",
    "# =============================================================================\n",
    "    m = A.shape[0]  # m is number of rows in A\n",
    "    n = A.shape[1]  # n is number of columns in A\n",
    "\n",
    "    B = np.copy(A).astype('float64')\n",
    "\n",
    "    for j in range(n):\n",
    "        temp = B[k][j]\n",
    "        B[k][j] = B[l][j]\n",
    "        B[l][j] = temp\n",
    "\n",
    "    return B\n",
    "\n",
    "def RowScale(A,k,scale):\n",
    "# =============================================================================\n",
    "#     A adalah sebuah NumPy array.  RowScale akan menghasilkan duplicate dari \n",
    "#     array dengan baris k di kali dengan skalar bukan 0\n",
    "# =============================================================================\n",
    "    m = A.shape[0]  # m is number of rows in A\n",
    "    n = A.shape[1]  # n is number of columns in A\n",
    "\n",
    "    B = np.copy(A).astype('float64')\n",
    "\n",
    "    for j in range(n):\n",
    "        B[k][j] *= scale\n",
    "\n",
    "    return B\n",
    "\n",
    "def RowAdd(A,k,l,scale):\n",
    "# =============================================================================\n",
    "#     A adalah sebuah NumPy array.  RowAddp akan menghasilkan duplicate dari \n",
    "#     array dengan baris k akan di kali dengan scalar bukan 0. lalu baris nilai\n",
    "#     baris l akan di tambah dengan nilai baris k yang sudah dikalikan  \n",
    "# =============================================================================\n",
    "    m = A.shape[0]  # m is number of rows in A\n",
    "    n = A.shape[1]  # n is number of columns in A\n",
    "\n",
    "    B = np.copy(A).astype('float64')\n",
    "\n",
    "    for j in range(n):\n",
    "        B[l][j] += B[k][j]*scale\n",
    "\n",
    "    return B"
   ]
  },
  {
   "cell_type": "code",
   "execution_count": 6,
   "metadata": {},
   "outputs": [
    {
     "name": "stdout",
     "output_type": "stream",
     "text": [
      "[[ 1.  2.  3.  9.]\n",
      " [ 8.  9.  1. 19.]\n",
      " [ 2.  1.  1.  5.]] \n",
      "\n",
      "[[ 8.  9.  1. 19.]\n",
      " [ 1.  2.  3.  9.]\n",
      " [ 2.  1.  1.  5.]] \n",
      "\n",
      "[[   8.    9.    1.   19.]\n",
      " [ -63.  -70.   -5. -143.]\n",
      " [   2.    1.    1.    5.]] \n",
      "\n",
      "[[   8.    9.    1.   19.]\n",
      " [ -63.  -70.   -5. -143.]\n",
      " [ -14.  -17.   -1.  -33.]] \n",
      "\n",
      "[[  8.           9.           1.          19.        ]\n",
      " [  9.          10.           0.71428571  20.42857143]\n",
      " [-14.         -17.          -1.         -33.        ]] \n",
      "\n",
      "[[ 8.          9.          1.         19.        ]\n",
      " [ 9.         10.          0.71428571 20.42857143]\n",
      " [13.         13.          1.14285714 28.28571429]] \n",
      "\n",
      "[[ 8.          9.          1.         19.        ]\n",
      " [ 9.         10.          0.71428571 20.42857143]\n",
      " [ 2.67647059  2.67647059  0.23529412  5.82352941]]\n"
     ]
    }
   ],
   "source": [
    "print(A,'\\n')\n",
    "\n",
    "# tukar posisi baris 1 dan baris 2\n",
    "A = RowSwap(A,0,1)\n",
    "print(A,'\\n')\n",
    "\n",
    "# baris 1 di kali -8 lalu ditambahkan ke baris 2\n",
    "A1 = RowAdd(A,0,1,-8)\n",
    "print(A1,'\\n')\n",
    "\n",
    "# baris 1 di kali -2 lalu ditambahkan ke baris 3\n",
    "A2 = RowAdd(A1,0,2,-2)\n",
    "print(A2,'\\n')\n",
    "\n",
    "# baris 2 di kalikan dengan -1/7\n",
    "A3 = RowScale(A2,1,-1/7)\n",
    "print(A3,'\\n')\n",
    "\n",
    "# baris 2 di kalikan 3 lalu ditambahkan ke baris 3\n",
    "A4 = RowAdd(A3,1,2,3)\n",
    "print(A4,'\\n')\n",
    "\n",
    "# baris 3 di  kalikan dengan 1/4.85714286\n",
    "A5 = RowScale(A4,2,1/4.85714286)\n",
    "print(A5)"
   ]
  },
  {
   "cell_type": "code",
   "execution_count": 5,
   "metadata": {},
   "outputs": [
    {
     "name": "stdout",
     "output_type": "stream",
     "text": [
      "Hasil x3, x2  dan x1\n",
      "x3 = 2\n",
      "x2 = 1\n",
      "x1 = 1\n"
     ]
    }
   ],
   "source": [
    "print(\"Hasil x3, x2  dan x1\")\n",
    "x3 = 2\n",
    "print('x3 =',x3)\n",
    "x2 = 7.57142857 - 3.28571429 *2\n",
    "print('x2 =',round(x2))\n",
    "x1 = 9 - x2*2 - x3*3\n",
    "print('x1 =', round(x1))"
   ]
  },
  {
   "cell_type": "markdown",
   "metadata": {},
   "source": [
    "hasil dari sistem persamaan berikut adalah: \n",
    "\n",
    "\n",
    "$$\n",
    "    8x_1 + 9x_2 + x_3 = 19\\\\\n",
    "    x_1  + 2x_2 + 3x_3 = 9\\\\\n",
    "    2x_1 + x_2  + x_3 = 5\n",
    "$$\n",
    "\n",
    "hasil setelah di bulatkan\n",
    "\n",
    "$$\n",
    "    x_1 + 2x_2 + 3x_3 = 9\\\\\n",
    "    x_2 + 3x_3 = 8\\\\\n",
    "    x_3 = 2\n",
    "$$"
   ]
  }
 ],
 "metadata": {
  "kernelspec": {
   "display_name": "Python 3 (ipykernel)",
   "language": "python",
   "name": "python3"
  }
 },
 "nbformat": 4,
 "nbformat_minor": 2
}
